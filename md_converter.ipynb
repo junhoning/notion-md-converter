{
 "cells": [
  {
   "cell_type": "code",
   "execution_count": 1,
   "metadata": {},
   "outputs": [],
   "source": [
    "import os\n",
    "from glob import glob\n",
    "import shutil\n",
    "import re"
   ]
  },
  {
   "cell_type": "code",
   "execution_count": 2,
   "metadata": {},
   "outputs": [],
   "source": [
    "md_list = []\n",
    "md_list_tmp = glob(\"*/*.md\")\n",
    "for path in md_list_tmp:\n",
    "    if path[-len('_edited.md'):] != '_edited.md':\n",
    "        md_list.append(path)"
   ]
  },
  {
   "cell_type": "code",
   "execution_count": 3,
   "metadata": {},
   "outputs": [],
   "source": [
    "for path in md_list:\n",
    "    with open(path, 'r', encoding='utf-8') as f:\n",
    "        conts = f.read().split('\\n')\n",
    "\n",
    "    code_close = True\n",
    "    code_blank = '    '\n",
    "    code_name = '```python'\n",
    "\n",
    "    for idx, cont in enumerate(conts):\n",
    "        if cont[:len(code_blank)] == code_blank and len(cont) > len(code_blank):\n",
    "            first_letter = cont[len(code_blank)]\n",
    "            p = re.compile('[a-zA-Z]')\n",
    "            m = p.match(first_letter)\n",
    "            exists = m is not None or first_letter == '#' or first_letter == \"'\" or first_letter == '\"' \n",
    "\n",
    "            if code_close and exists:\n",
    "                code_close = False\n",
    "                conts[idx] = code_name + '\\n\\n' + cont\n",
    "\n",
    "        if code_close == False and cont != '' and cont[:len(code_blank)] != code_blank:\n",
    "            code_close = True\n",
    "            conts[idx] = '\\n' + '```' + '\\n' + cont\n",
    "\n",
    "    final_conts = '\\n'.join(conts)\n",
    "    final_conts.split('\\n')\n",
    "    \n",
    "    with open(path.replace('.md', '_edited.md'), 'w', encoding='utf-8') as f:\n",
    "        f.write('\\n'.join(conts))"
   ]
  },
  {
   "cell_type": "code",
   "execution_count": 4,
   "metadata": {},
   "outputs": [],
   "source": [
    "if not os.path.exists('md_files'):\n",
    "    os.makedirs('md_files')"
   ]
  },
  {
   "cell_type": "code",
   "execution_count": 5,
   "metadata": {},
   "outputs": [],
   "source": [
    "for path in glob(\"ch.*/*\"):\n",
    "    new_dir = 'md_files'\n",
    "    file_name = os.path.basename(path)\n",
    "    new_path = os.path.join(new_dir, file_name)\n",
    "    shutil.copy(path, new_dir)"
   ]
  },
  {
   "cell_type": "code",
   "execution_count": 6,
   "metadata": {},
   "outputs": [],
   "source": [
    "edited_mds = []\n",
    "for path in glob('*/*_edited.md'):\n",
    "    edited_mds.append(os.path.basename(path))"
   ]
  },
  {
   "cell_type": "code",
   "execution_count": 7,
   "metadata": {},
   "outputs": [],
   "source": [
    "md_names = ' '.join(edited_mds)"
   ]
  },
  {
   "cell_type": "code",
   "execution_count": 8,
   "metadata": {},
   "outputs": [
    {
     "name": "stdout",
     "output_type": "stream",
     "text": [
      "pandoc -o ../output.epub --highlight-style tango --epub-cover-image ./sources/KakaoTalk_20190413_153131931.png ./sources/titlepage_eng.txt ch1-1-1-97c312eb-7742-4119-b143-7e95375678b8_edited.md ch1-2-2-ee29bcac-13ad-44fa-8382-146cd5acb736_edited.md ch1-3-Pandas-414681e2-929e-4ac4-ad8e-b8b054f72178_edited.md ch1-4-cf0c3fd3-43bc-41cc-9bee-2e11435969d2_edited.md ch2-1-ab6ecf87-7d9c-48f6-81a2-6e1520a7a2a1_edited.md ch2-2-Selenium-ec9b9065-c403-4232-93c2-8f2e0b991932_edited.md ch2-3-BeautifulSoup-6932d1d7-780f-4e00-b685-8961fa4aa8ad_edited.md ch3-1-5138cc01-a346-45f6-a0e2-b9302a364194_edited.md ch3-2-time-cron-8bb01681-03ec-4a59-9a65-e87ef497b4bb_edited.md ch3-3-API-JSON-21a34f82-ffd7-48e0-a985-a3e44de349d7_edited.md ch3-4-d1902be2-2a78-42cc-b75c-7959759a030f_edited.md ch3-5-SMS-4d3a43b5-ffe8-4111-ab21-e4bf7b28e988_edited.md ch3-6-Slack-d856a336-c91e-4729-9f88-adbbd9b67d99_edited.md ch3-7-Google-API-b19f3835-ec75-4d78-95cc-c06c3f5bc320_edited.md ch3-8-With-Google-Developers-Group-JEJU-e75576ee-e3c5-4743-be20-e9b23fde2c96_edited.md ch1-1-1-97c312eb-7742-4119-b143-7e95375678b8_edited.md ch1-2-2-ee29bcac-13ad-44fa-8382-146cd5acb736_edited.md ch1-3-Pandas-414681e2-929e-4ac4-ad8e-b8b054f72178_edited.md ch1-4-cf0c3fd3-43bc-41cc-9bee-2e11435969d2_edited.md ch2-1-ab6ecf87-7d9c-48f6-81a2-6e1520a7a2a1_edited.md ch2-2-Selenium-ec9b9065-c403-4232-93c2-8f2e0b991932_edited.md ch2-3-BeautifulSoup-6932d1d7-780f-4e00-b685-8961fa4aa8ad_edited.md ch3-1-5138cc01-a346-45f6-a0e2-b9302a364194_edited.md ch3-2-time-cron-8bb01681-03ec-4a59-9a65-e87ef497b4bb_edited.md ch3-3-API-JSON-21a34f82-ffd7-48e0-a985-a3e44de349d7_edited.md ch3-4-d1902be2-2a78-42cc-b75c-7959759a030f_edited.md ch3-5-SMS-4d3a43b5-ffe8-4111-ab21-e4bf7b28e988_edited.md ch3-6-Slack-d856a336-c91e-4729-9f88-adbbd9b67d99_edited.md ch3-7-Google-API-b19f3835-ec75-4d78-95cc-c06c3f5bc320_edited.md ch3-8-With-Google-Developers-Group-JEJU-e75576ee-e3c5-4743-be20-e9b23fde2c96_edited.md\n"
     ]
    }
   ],
   "source": [
    "pandoc_cmd = 'pandoc -o ../output.epub --highlight-style tango --epub-cover-image ./sources/KakaoTalk_20190413_153131931.png ./sources/titlepage_eng.txt'\n",
    "\n",
    "print(pandoc_cmd, md_names)"
   ]
  },
  {
   "cell_type": "code",
   "execution_count": null,
   "metadata": {},
   "outputs": [],
   "source": []
  }
 ],
 "metadata": {
  "kernelspec": {
   "display_name": "Python 3",
   "language": "python",
   "name": "python3"
  },
  "language_info": {
   "codemirror_mode": {
    "name": "ipython",
    "version": 3
   },
   "file_extension": ".py",
   "mimetype": "text/x-python",
   "name": "python",
   "nbconvert_exporter": "python",
   "pygments_lexer": "ipython3",
   "version": "3.6.8"
  }
 },
 "nbformat": 4,
 "nbformat_minor": 2
}
